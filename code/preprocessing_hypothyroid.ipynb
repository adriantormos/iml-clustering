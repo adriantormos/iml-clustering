{
 "cells": [
  {
   "cell_type": "markdown",
   "metadata": {},
   "source": [
    "# Preprocessing of the Hypothyroid dataset"
   ]
  },
  {
   "cell_type": "markdown",
   "metadata": {},
   "source": [
    "In this notebook we describe the different preprocessing steps we realize on the Hypothyroid dataset to prepare it for the clustering algorithms."
   ]
  },
  {
   "cell_type": "code",
   "execution_count": 6,
   "metadata": {},
   "outputs": [],
   "source": [
    "# Imports\n",
    "import auxiliary\n",
    "import pandas as pd\n",
    "\n",
    "# Useful methods"
   ]
  },
  {
   "cell_type": "markdown",
   "metadata": {},
   "source": [
    "## Introduction"
   ]
  },
  {
   "cell_type": "markdown",
   "metadata": {},
   "source": [
    "We first load the dataset and do a quick check to the data"
   ]
  },
  {
   "cell_type": "code",
   "execution_count": 7,
   "metadata": {},
   "outputs": [
    {
     "data": {
      "text/html": [
       "<div>\n",
       "<style scoped>\n",
       "    .dataframe tbody tr th:only-of-type {\n",
       "        vertical-align: middle;\n",
       "    }\n",
       "\n",
       "    .dataframe tbody tr th {\n",
       "        vertical-align: top;\n",
       "    }\n",
       "\n",
       "    .dataframe thead th {\n",
       "        text-align: right;\n",
       "    }\n",
       "</style>\n",
       "<table border=\"1\" class=\"dataframe\">\n",
       "  <thead>\n",
       "    <tr style=\"text-align: right;\">\n",
       "      <th></th>\n",
       "      <th>age</th>\n",
       "      <th>sex</th>\n",
       "      <th>on_thyroxine</th>\n",
       "      <th>query_on_thyroxine</th>\n",
       "      <th>on_antithyroid_medication</th>\n",
       "      <th>sick</th>\n",
       "      <th>pregnant</th>\n",
       "      <th>thyroid_surgery</th>\n",
       "      <th>I131_treatment</th>\n",
       "      <th>query_hypothyroid</th>\n",
       "      <th>...</th>\n",
       "      <th>TT4_measured</th>\n",
       "      <th>TT4</th>\n",
       "      <th>T4U_measured</th>\n",
       "      <th>T4U</th>\n",
       "      <th>FTI_measured</th>\n",
       "      <th>FTI</th>\n",
       "      <th>TBG_measured</th>\n",
       "      <th>TBG</th>\n",
       "      <th>referral_source</th>\n",
       "      <th>Class</th>\n",
       "    </tr>\n",
       "  </thead>\n",
       "  <tbody>\n",
       "    <tr>\n",
       "      <th>0</th>\n",
       "      <td>41.0</td>\n",
       "      <td>b'F'</td>\n",
       "      <td>b'f'</td>\n",
       "      <td>b'f'</td>\n",
       "      <td>b'f'</td>\n",
       "      <td>b'f'</td>\n",
       "      <td>b'f'</td>\n",
       "      <td>b'f'</td>\n",
       "      <td>b'f'</td>\n",
       "      <td>b'f'</td>\n",
       "      <td>...</td>\n",
       "      <td>b't'</td>\n",
       "      <td>125.0</td>\n",
       "      <td>b't'</td>\n",
       "      <td>1.14</td>\n",
       "      <td>b't'</td>\n",
       "      <td>109.0</td>\n",
       "      <td>b'f'</td>\n",
       "      <td>NaN</td>\n",
       "      <td>b'SVHC'</td>\n",
       "      <td>b'negative'</td>\n",
       "    </tr>\n",
       "    <tr>\n",
       "      <th>1</th>\n",
       "      <td>23.0</td>\n",
       "      <td>b'F'</td>\n",
       "      <td>b'f'</td>\n",
       "      <td>b'f'</td>\n",
       "      <td>b'f'</td>\n",
       "      <td>b'f'</td>\n",
       "      <td>b'f'</td>\n",
       "      <td>b'f'</td>\n",
       "      <td>b'f'</td>\n",
       "      <td>b'f'</td>\n",
       "      <td>...</td>\n",
       "      <td>b't'</td>\n",
       "      <td>102.0</td>\n",
       "      <td>b'f'</td>\n",
       "      <td>NaN</td>\n",
       "      <td>b'f'</td>\n",
       "      <td>NaN</td>\n",
       "      <td>b'f'</td>\n",
       "      <td>NaN</td>\n",
       "      <td>b'other'</td>\n",
       "      <td>b'negative'</td>\n",
       "    </tr>\n",
       "    <tr>\n",
       "      <th>2</th>\n",
       "      <td>46.0</td>\n",
       "      <td>b'M'</td>\n",
       "      <td>b'f'</td>\n",
       "      <td>b'f'</td>\n",
       "      <td>b'f'</td>\n",
       "      <td>b'f'</td>\n",
       "      <td>b'f'</td>\n",
       "      <td>b'f'</td>\n",
       "      <td>b'f'</td>\n",
       "      <td>b'f'</td>\n",
       "      <td>...</td>\n",
       "      <td>b't'</td>\n",
       "      <td>109.0</td>\n",
       "      <td>b't'</td>\n",
       "      <td>0.91</td>\n",
       "      <td>b't'</td>\n",
       "      <td>120.0</td>\n",
       "      <td>b'f'</td>\n",
       "      <td>NaN</td>\n",
       "      <td>b'other'</td>\n",
       "      <td>b'negative'</td>\n",
       "    </tr>\n",
       "    <tr>\n",
       "      <th>3</th>\n",
       "      <td>70.0</td>\n",
       "      <td>b'F'</td>\n",
       "      <td>b't'</td>\n",
       "      <td>b'f'</td>\n",
       "      <td>b'f'</td>\n",
       "      <td>b'f'</td>\n",
       "      <td>b'f'</td>\n",
       "      <td>b'f'</td>\n",
       "      <td>b'f'</td>\n",
       "      <td>b'f'</td>\n",
       "      <td>...</td>\n",
       "      <td>b't'</td>\n",
       "      <td>175.0</td>\n",
       "      <td>b'f'</td>\n",
       "      <td>NaN</td>\n",
       "      <td>b'f'</td>\n",
       "      <td>NaN</td>\n",
       "      <td>b'f'</td>\n",
       "      <td>NaN</td>\n",
       "      <td>b'other'</td>\n",
       "      <td>b'negative'</td>\n",
       "    </tr>\n",
       "    <tr>\n",
       "      <th>4</th>\n",
       "      <td>70.0</td>\n",
       "      <td>b'F'</td>\n",
       "      <td>b'f'</td>\n",
       "      <td>b'f'</td>\n",
       "      <td>b'f'</td>\n",
       "      <td>b'f'</td>\n",
       "      <td>b'f'</td>\n",
       "      <td>b'f'</td>\n",
       "      <td>b'f'</td>\n",
       "      <td>b'f'</td>\n",
       "      <td>...</td>\n",
       "      <td>b't'</td>\n",
       "      <td>61.0</td>\n",
       "      <td>b't'</td>\n",
       "      <td>0.87</td>\n",
       "      <td>b't'</td>\n",
       "      <td>70.0</td>\n",
       "      <td>b'f'</td>\n",
       "      <td>NaN</td>\n",
       "      <td>b'SVI'</td>\n",
       "      <td>b'negative'</td>\n",
       "    </tr>\n",
       "  </tbody>\n",
       "</table>\n",
       "<p>5 rows × 30 columns</p>\n",
       "</div>"
      ],
      "text/plain": [
       "    age   sex on_thyroxine query_on_thyroxine on_antithyroid_medication  sick  \\\n",
       "0  41.0  b'F'         b'f'               b'f'                      b'f'  b'f'   \n",
       "1  23.0  b'F'         b'f'               b'f'                      b'f'  b'f'   \n",
       "2  46.0  b'M'         b'f'               b'f'                      b'f'  b'f'   \n",
       "3  70.0  b'F'         b't'               b'f'                      b'f'  b'f'   \n",
       "4  70.0  b'F'         b'f'               b'f'                      b'f'  b'f'   \n",
       "\n",
       "  pregnant thyroid_surgery I131_treatment query_hypothyroid  ... TT4_measured  \\\n",
       "0     b'f'            b'f'           b'f'              b'f'  ...         b't'   \n",
       "1     b'f'            b'f'           b'f'              b'f'  ...         b't'   \n",
       "2     b'f'            b'f'           b'f'              b'f'  ...         b't'   \n",
       "3     b'f'            b'f'           b'f'              b'f'  ...         b't'   \n",
       "4     b'f'            b'f'           b'f'              b'f'  ...         b't'   \n",
       "\n",
       "     TT4 T4U_measured   T4U FTI_measured    FTI TBG_measured  TBG  \\\n",
       "0  125.0         b't'  1.14         b't'  109.0         b'f'  NaN   \n",
       "1  102.0         b'f'   NaN         b'f'    NaN         b'f'  NaN   \n",
       "2  109.0         b't'  0.91         b't'  120.0         b'f'  NaN   \n",
       "3  175.0         b'f'   NaN         b'f'    NaN         b'f'  NaN   \n",
       "4   61.0         b't'  0.87         b't'   70.0         b'f'  NaN   \n",
       "\n",
       "  referral_source        Class  \n",
       "0         b'SVHC'  b'negative'  \n",
       "1        b'other'  b'negative'  \n",
       "2        b'other'  b'negative'  \n",
       "3        b'other'  b'negative'  \n",
       "4          b'SVI'  b'negative'  \n",
       "\n",
       "[5 rows x 30 columns]"
      ]
     },
     "execution_count": 7,
     "metadata": {},
     "output_type": "execute_result"
    }
   ],
   "source": [
    "# Load dataset\n",
    "data, metadata = auxiliary.load_arff('hypothyroid')\n",
    "data = pd.DataFrame(data)\n",
    "data.head()"
   ]
  },
  {
   "cell_type": "code",
   "execution_count": 10,
   "metadata": {},
   "outputs": [
    {
     "name": "stdout",
     "output_type": "stream",
     "text": [
      "<class 'pandas.core.frame.DataFrame'>\n",
      "RangeIndex: 3772 entries, 0 to 3771\n",
      "Columns: 30 entries, age to Class\n",
      "dtypes: float64(7), object(23)\n",
      "memory usage: 884.2+ KB\n"
     ]
    }
   ],
   "source": [
    "data.info(verbose=False)"
   ]
  },
  {
   "cell_type": "code",
   "execution_count": 8,
   "metadata": {},
   "outputs": [
    {
     "name": "stdout",
     "output_type": "stream",
     "text": [
      "Dataset: hypothyroid\n",
      "\tage's type is numeric\n",
      "\tsex's type is nominal, range is ('F', 'M')\n",
      "\ton_thyroxine's type is nominal, range is ('f', 't')\n",
      "\tquery_on_thyroxine's type is nominal, range is ('f', 't')\n",
      "\ton_antithyroid_medication's type is nominal, range is ('f', 't')\n",
      "\tsick's type is nominal, range is ('f', 't')\n",
      "\tpregnant's type is nominal, range is ('f', 't')\n",
      "\tthyroid_surgery's type is nominal, range is ('f', 't')\n",
      "\tI131_treatment's type is nominal, range is ('f', 't')\n",
      "\tquery_hypothyroid's type is nominal, range is ('f', 't')\n",
      "\tquery_hyperthyroid's type is nominal, range is ('f', 't')\n",
      "\tlithium's type is nominal, range is ('f', 't')\n",
      "\tgoitre's type is nominal, range is ('f', 't')\n",
      "\ttumor's type is nominal, range is ('f', 't')\n",
      "\thypopituitary's type is nominal, range is ('f', 't')\n",
      "\tpsych's type is nominal, range is ('f', 't')\n",
      "\tTSH_measured's type is nominal, range is ('t', 'f')\n",
      "\tTSH's type is numeric\n",
      "\tT3_measured's type is nominal, range is ('t', 'f')\n",
      "\tT3's type is numeric\n",
      "\tTT4_measured's type is nominal, range is ('t', 'f')\n",
      "\tTT4's type is numeric\n",
      "\tT4U_measured's type is nominal, range is ('t', 'f')\n",
      "\tT4U's type is numeric\n",
      "\tFTI_measured's type is nominal, range is ('t', 'f')\n",
      "\tFTI's type is numeric\n",
      "\tTBG_measured's type is nominal, range is ('f',)\n",
      "\tTBG's type is numeric\n",
      "\treferral_source's type is nominal, range is ('SVHC', 'other', 'SVI', 'STMW', 'SVHD')\n",
      "\tClass's type is nominal, range is ('negative', 'compensated_hypothyroid', 'primary_hypothyroid', 'secondary_hypothyroid')\n",
      "\n"
     ]
    }
   ],
   "source": [
    "print(metadata)"
   ]
  },
  {
   "cell_type": "code",
   "execution_count": null,
   "metadata": {},
   "outputs": [],
   "source": [
    "# for later operations\n",
    "#data_numeric = data[['age', 'TSH', 'T3', 'TT4', 'T4U', 'FTI', 'TBG']]\n",
    "#data_nomical = data[['sex', 'on_thyroxine', 'query_on_thyroxine', 'on_antithyroid_medication', 'sick', '', 'TSH', 'T3', 'TT4', 'T4U', 'FTI', 'TBG']]\n",
    "#data_class = data['Class']"
   ]
  },
  {
   "cell_type": "markdown",
   "metadata": {},
   "source": [
    "For summarizing the dataset has the following characteristics:\n",
    "- It hast a total of 3772 samples and 29 features (we don't count the class column)\n",
    "- It has 7 numerical features and 22 nominal features (we don't count the class column).\n",
    "- 20 of the nominal features have only 2 different values.\n",
    "- The feature to predict is nominal and has 4 different values."
   ]
  },
  {
   "cell_type": "markdown",
   "metadata": {},
   "source": [
    "## Preprocessing"
   ]
  },
  {
   "cell_type": "markdown",
   "metadata": {},
   "source": [
    "We divide the preprocessing in the following 4 different steps:\n",
    "- Check the class feature\n",
    "- Check the numerical feautures one by one\n",
    "- Check the nominal feautures one by one"
   ]
  },
  {
   "cell_type": "markdown",
   "metadata": {},
   "source": [
    "### Check the class feature"
   ]
  },
  {
   "cell_type": "markdown",
   "metadata": {},
   "source": [
    "In this subsection we analyse the feature to predict. \n",
    "\n",
    "We start checking the number of samples for each possible class (in absolute and relative value)."
   ]
  },
  {
   "cell_type": "code",
   "execution_count": 17,
   "metadata": {},
   "outputs": [
    {
     "name": "stdout",
     "output_type": "stream",
     "text": [
      "b'negative'                   3481\n",
      "b'compensated_hypothyroid'     194\n",
      "b'primary_hypothyroid'          95\n",
      "b'secondary_hypothyroid'         2\n",
      "Name: Class, dtype: int64 \n",
      "\n",
      "b'negative'                   0.922853\n",
      "b'compensated_hypothyroid'    0.051432\n",
      "b'primary_hypothyroid'        0.025186\n",
      "b'secondary_hypothyroid'      0.000530\n",
      "Name: Class, dtype: float64\n"
     ]
    }
   ],
   "source": [
    "print(data['Class'].value_counts(), '\\n')\n",
    "print(data['Class'].value_counts(normalize=True))"
   ]
  },
  {
   "cell_type": "markdown",
   "metadata": {},
   "source": [
    "We can clearly see that the dataset is highly descompensated, the 92,29% of the samples belong to only one class.."
   ]
  },
  {
   "cell_type": "markdown",
   "metadata": {},
   "source": [
    "Now we check the correlation with the numeric features"
   ]
  },
  {
   "cell_type": "code",
   "execution_count": null,
   "metadata": {},
   "outputs": [],
   "source": [
    "corr = data_numeric.corr()\n",
    "corr.style.background_gradient(cmap='coolwarm')"
   ]
  }
 ],
 "metadata": {
  "kernelspec": {
   "display_name": "Python 3",
   "language": "python",
   "name": "python3"
  },
  "language_info": {
   "codemirror_mode": {
    "name": "ipython",
    "version": 3
   },
   "file_extension": ".py",
   "mimetype": "text/x-python",
   "name": "python",
   "nbconvert_exporter": "python",
   "pygments_lexer": "ipython3",
   "version": "3.7.6"
  }
 },
 "nbformat": 4,
 "nbformat_minor": 4
}
