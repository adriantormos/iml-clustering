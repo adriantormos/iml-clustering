{
 "cells": [
  {
   "cell_type": "markdown",
   "metadata": {},
   "source": [
    "# Preprocessing of the Hypothyroid dataset"
   ]
  },
  {
   "cell_type": "markdown",
   "metadata": {},
   "source": [
    "In this notebook we describe the different preprocessing steps we realize on the Hypothyroid dataset to prepare it for the clustering algorithms."
   ]
  },
  {
   "cell_type": "code",
   "execution_count": 52,
   "metadata": {},
   "outputs": [],
   "source": [
    "# Imports\n",
    "import pandas as pd\n",
    "from scipy.io.arff import loadarff\n",
    "import os\n",
    "import matplotlib.pyplot as plt\n",
    "import numpy as np\n",
    "from prettytable import PrettyTable\n",
    "\n",
    "# Useful methods\n",
    "def load_arff(dataset_name: str):\n",
    "    f = open(os.path.abspath(os.path.join('..', 'datasets', 'all', dataset_name + '.arff')))\n",
    "    data, metadata = loadarff(f)\n",
    "    return data, metadata\n",
    "\n",
    "def plot_hist(array, title):\n",
    "    plt.figure(figsize=(10,5))\n",
    "    plt.hist(array, bins=50, facecolor='b')\n",
    "    plt.xlabel('Value')\n",
    "    plt.ylabel('Frequency')\n",
    "    plt.grid(True)\n",
    "    plt.title(title)\n",
    "    plt.show()\n",
    "    \n",
    "def min_max_normalize(array):\n",
    "   max_value = np.max(array)\n",
    "   min_value = np.min(array)\n",
    "   output = np.zeros(array.shape)\n",
    "   if max_value != min_value:\n",
    "     output = (array - min_value)/(max_value - min_value)\n",
    "   return output"
   ]
  },
  {
   "cell_type": "markdown",
   "metadata": {},
   "source": [
    "## Introduction"
   ]
  },
  {
   "cell_type": "markdown",
   "metadata": {},
   "source": [
    "We first load the dataset and do a quick check to the data"
   ]
  },
  {
   "cell_type": "code",
   "execution_count": 2,
   "metadata": {},
   "outputs": [
    {
     "data": {
      "text/html": [
       "<div>\n",
       "<style scoped>\n",
       "    .dataframe tbody tr th:only-of-type {\n",
       "        vertical-align: middle;\n",
       "    }\n",
       "\n",
       "    .dataframe tbody tr th {\n",
       "        vertical-align: top;\n",
       "    }\n",
       "\n",
       "    .dataframe thead th {\n",
       "        text-align: right;\n",
       "    }\n",
       "</style>\n",
       "<table border=\"1\" class=\"dataframe\">\n",
       "  <thead>\n",
       "    <tr style=\"text-align: right;\">\n",
       "      <th></th>\n",
       "      <th>age</th>\n",
       "      <th>sex</th>\n",
       "      <th>on_thyroxine</th>\n",
       "      <th>query_on_thyroxine</th>\n",
       "      <th>on_antithyroid_medication</th>\n",
       "      <th>sick</th>\n",
       "      <th>pregnant</th>\n",
       "      <th>thyroid_surgery</th>\n",
       "      <th>I131_treatment</th>\n",
       "      <th>query_hypothyroid</th>\n",
       "      <th>...</th>\n",
       "      <th>TT4_measured</th>\n",
       "      <th>TT4</th>\n",
       "      <th>T4U_measured</th>\n",
       "      <th>T4U</th>\n",
       "      <th>FTI_measured</th>\n",
       "      <th>FTI</th>\n",
       "      <th>TBG_measured</th>\n",
       "      <th>TBG</th>\n",
       "      <th>referral_source</th>\n",
       "      <th>Class</th>\n",
       "    </tr>\n",
       "  </thead>\n",
       "  <tbody>\n",
       "    <tr>\n",
       "      <th>0</th>\n",
       "      <td>41.0</td>\n",
       "      <td>b'F'</td>\n",
       "      <td>b'f'</td>\n",
       "      <td>b'f'</td>\n",
       "      <td>b'f'</td>\n",
       "      <td>b'f'</td>\n",
       "      <td>b'f'</td>\n",
       "      <td>b'f'</td>\n",
       "      <td>b'f'</td>\n",
       "      <td>b'f'</td>\n",
       "      <td>...</td>\n",
       "      <td>b't'</td>\n",
       "      <td>125.0</td>\n",
       "      <td>b't'</td>\n",
       "      <td>1.14</td>\n",
       "      <td>b't'</td>\n",
       "      <td>109.0</td>\n",
       "      <td>b'f'</td>\n",
       "      <td>NaN</td>\n",
       "      <td>b'SVHC'</td>\n",
       "      <td>b'negative'</td>\n",
       "    </tr>\n",
       "    <tr>\n",
       "      <th>1</th>\n",
       "      <td>23.0</td>\n",
       "      <td>b'F'</td>\n",
       "      <td>b'f'</td>\n",
       "      <td>b'f'</td>\n",
       "      <td>b'f'</td>\n",
       "      <td>b'f'</td>\n",
       "      <td>b'f'</td>\n",
       "      <td>b'f'</td>\n",
       "      <td>b'f'</td>\n",
       "      <td>b'f'</td>\n",
       "      <td>...</td>\n",
       "      <td>b't'</td>\n",
       "      <td>102.0</td>\n",
       "      <td>b'f'</td>\n",
       "      <td>NaN</td>\n",
       "      <td>b'f'</td>\n",
       "      <td>NaN</td>\n",
       "      <td>b'f'</td>\n",
       "      <td>NaN</td>\n",
       "      <td>b'other'</td>\n",
       "      <td>b'negative'</td>\n",
       "    </tr>\n",
       "    <tr>\n",
       "      <th>2</th>\n",
       "      <td>46.0</td>\n",
       "      <td>b'M'</td>\n",
       "      <td>b'f'</td>\n",
       "      <td>b'f'</td>\n",
       "      <td>b'f'</td>\n",
       "      <td>b'f'</td>\n",
       "      <td>b'f'</td>\n",
       "      <td>b'f'</td>\n",
       "      <td>b'f'</td>\n",
       "      <td>b'f'</td>\n",
       "      <td>...</td>\n",
       "      <td>b't'</td>\n",
       "      <td>109.0</td>\n",
       "      <td>b't'</td>\n",
       "      <td>0.91</td>\n",
       "      <td>b't'</td>\n",
       "      <td>120.0</td>\n",
       "      <td>b'f'</td>\n",
       "      <td>NaN</td>\n",
       "      <td>b'other'</td>\n",
       "      <td>b'negative'</td>\n",
       "    </tr>\n",
       "    <tr>\n",
       "      <th>3</th>\n",
       "      <td>70.0</td>\n",
       "      <td>b'F'</td>\n",
       "      <td>b't'</td>\n",
       "      <td>b'f'</td>\n",
       "      <td>b'f'</td>\n",
       "      <td>b'f'</td>\n",
       "      <td>b'f'</td>\n",
       "      <td>b'f'</td>\n",
       "      <td>b'f'</td>\n",
       "      <td>b'f'</td>\n",
       "      <td>...</td>\n",
       "      <td>b't'</td>\n",
       "      <td>175.0</td>\n",
       "      <td>b'f'</td>\n",
       "      <td>NaN</td>\n",
       "      <td>b'f'</td>\n",
       "      <td>NaN</td>\n",
       "      <td>b'f'</td>\n",
       "      <td>NaN</td>\n",
       "      <td>b'other'</td>\n",
       "      <td>b'negative'</td>\n",
       "    </tr>\n",
       "    <tr>\n",
       "      <th>4</th>\n",
       "      <td>70.0</td>\n",
       "      <td>b'F'</td>\n",
       "      <td>b'f'</td>\n",
       "      <td>b'f'</td>\n",
       "      <td>b'f'</td>\n",
       "      <td>b'f'</td>\n",
       "      <td>b'f'</td>\n",
       "      <td>b'f'</td>\n",
       "      <td>b'f'</td>\n",
       "      <td>b'f'</td>\n",
       "      <td>...</td>\n",
       "      <td>b't'</td>\n",
       "      <td>61.0</td>\n",
       "      <td>b't'</td>\n",
       "      <td>0.87</td>\n",
       "      <td>b't'</td>\n",
       "      <td>70.0</td>\n",
       "      <td>b'f'</td>\n",
       "      <td>NaN</td>\n",
       "      <td>b'SVI'</td>\n",
       "      <td>b'negative'</td>\n",
       "    </tr>\n",
       "  </tbody>\n",
       "</table>\n",
       "<p>5 rows × 30 columns</p>\n",
       "</div>"
      ],
      "text/plain": [
       "    age   sex on_thyroxine query_on_thyroxine on_antithyroid_medication  sick  \\\n",
       "0  41.0  b'F'         b'f'               b'f'                      b'f'  b'f'   \n",
       "1  23.0  b'F'         b'f'               b'f'                      b'f'  b'f'   \n",
       "2  46.0  b'M'         b'f'               b'f'                      b'f'  b'f'   \n",
       "3  70.0  b'F'         b't'               b'f'                      b'f'  b'f'   \n",
       "4  70.0  b'F'         b'f'               b'f'                      b'f'  b'f'   \n",
       "\n",
       "  pregnant thyroid_surgery I131_treatment query_hypothyroid  ... TT4_measured  \\\n",
       "0     b'f'            b'f'           b'f'              b'f'  ...         b't'   \n",
       "1     b'f'            b'f'           b'f'              b'f'  ...         b't'   \n",
       "2     b'f'            b'f'           b'f'              b'f'  ...         b't'   \n",
       "3     b'f'            b'f'           b'f'              b'f'  ...         b't'   \n",
       "4     b'f'            b'f'           b'f'              b'f'  ...         b't'   \n",
       "\n",
       "     TT4 T4U_measured   T4U FTI_measured    FTI TBG_measured  TBG  \\\n",
       "0  125.0         b't'  1.14         b't'  109.0         b'f'  NaN   \n",
       "1  102.0         b'f'   NaN         b'f'    NaN         b'f'  NaN   \n",
       "2  109.0         b't'  0.91         b't'  120.0         b'f'  NaN   \n",
       "3  175.0         b'f'   NaN         b'f'    NaN         b'f'  NaN   \n",
       "4   61.0         b't'  0.87         b't'   70.0         b'f'  NaN   \n",
       "\n",
       "  referral_source        Class  \n",
       "0         b'SVHC'  b'negative'  \n",
       "1        b'other'  b'negative'  \n",
       "2        b'other'  b'negative'  \n",
       "3        b'other'  b'negative'  \n",
       "4          b'SVI'  b'negative'  \n",
       "\n",
       "[5 rows x 30 columns]"
      ]
     },
     "execution_count": 2,
     "metadata": {},
     "output_type": "execute_result"
    }
   ],
   "source": [
    "# Load dataset\n",
    "data, metadata = load_arff('hypothyroid')\n",
    "data = pd.DataFrame(data)\n",
    "data.head()"
   ]
  },
  {
   "cell_type": "code",
   "execution_count": 3,
   "metadata": {},
   "outputs": [
    {
     "name": "stdout",
     "output_type": "stream",
     "text": [
      "<class 'pandas.core.frame.DataFrame'>\n",
      "RangeIndex: 3772 entries, 0 to 3771\n",
      "Columns: 30 entries, age to Class\n",
      "dtypes: float64(7), object(23)\n",
      "memory usage: 884.2+ KB\n"
     ]
    }
   ],
   "source": [
    "data.info(verbose=False)"
   ]
  },
  {
   "cell_type": "code",
   "execution_count": 4,
   "metadata": {},
   "outputs": [
    {
     "name": "stdout",
     "output_type": "stream",
     "text": [
      "Dataset: hypothyroid\n",
      "\tage's type is numeric\n",
      "\tsex's type is nominal, range is ('F', 'M')\n",
      "\ton_thyroxine's type is nominal, range is ('f', 't')\n",
      "\tquery_on_thyroxine's type is nominal, range is ('f', 't')\n",
      "\ton_antithyroid_medication's type is nominal, range is ('f', 't')\n",
      "\tsick's type is nominal, range is ('f', 't')\n",
      "\tpregnant's type is nominal, range is ('f', 't')\n",
      "\tthyroid_surgery's type is nominal, range is ('f', 't')\n",
      "\tI131_treatment's type is nominal, range is ('f', 't')\n",
      "\tquery_hypothyroid's type is nominal, range is ('f', 't')\n",
      "\tquery_hyperthyroid's type is nominal, range is ('f', 't')\n",
      "\tlithium's type is nominal, range is ('f', 't')\n",
      "\tgoitre's type is nominal, range is ('f', 't')\n",
      "\ttumor's type is nominal, range is ('f', 't')\n",
      "\thypopituitary's type is nominal, range is ('f', 't')\n",
      "\tpsych's type is nominal, range is ('f', 't')\n",
      "\tTSH_measured's type is nominal, range is ('t', 'f')\n",
      "\tTSH's type is numeric\n",
      "\tT3_measured's type is nominal, range is ('t', 'f')\n",
      "\tT3's type is numeric\n",
      "\tTT4_measured's type is nominal, range is ('t', 'f')\n",
      "\tTT4's type is numeric\n",
      "\tT4U_measured's type is nominal, range is ('t', 'f')\n",
      "\tT4U's type is numeric\n",
      "\tFTI_measured's type is nominal, range is ('t', 'f')\n",
      "\tFTI's type is numeric\n",
      "\tTBG_measured's type is nominal, range is ('f',)\n",
      "\tTBG's type is numeric\n",
      "\treferral_source's type is nominal, range is ('SVHC', 'other', 'SVI', 'STMW', 'SVHD')\n",
      "\tClass's type is nominal, range is ('negative', 'compensated_hypothyroid', 'primary_hypothyroid', 'secondary_hypothyroid')\n",
      "\n"
     ]
    }
   ],
   "source": [
    "print(metadata)"
   ]
  },
  {
   "cell_type": "code",
   "execution_count": 5,
   "metadata": {},
   "outputs": [],
   "source": [
    "# for later operations\n",
    "data_numeric = data[['age', 'TSH', 'T3', 'TT4', 'T4U', 'FTI', 'TBG']]\n",
    "data_nominal = data[data.columns.difference(['age', 'TSH', 'T3', 'TT4', 'T4U', 'FTI', 'TBG', 'Class'])]\n",
    "data_class = data['Class']"
   ]
  },
  {
   "cell_type": "code",
   "execution_count": 57,
   "metadata": {},
   "outputs": [
    {
     "data": {
      "text/plain": [
       "Index(['age', 'sex', 'on_thyroxine', 'query_on_thyroxine',\n",
       "       'on_antithyroid_medication', 'sick', 'pregnant', 'thyroid_surgery',\n",
       "       'I131_treatment', 'query_hypothyroid', 'query_hyperthyroid', 'lithium',\n",
       "       'goitre', 'tumor', 'hypopituitary', 'psych', 'TSH_measured', 'TSH',\n",
       "       'T3_measured', 'T3', 'TT4_measured', 'TT4', 'T4U_measured', 'T4U',\n",
       "       'FTI_measured', 'FTI', 'TBG_measured', 'referral_source', 'Class'],\n",
       "      dtype='object')"
      ]
     },
     "execution_count": 57,
     "metadata": {},
     "output_type": "execute_result"
    }
   ],
   "source": [
    "data.columns"
   ]
  },
  {
   "cell_type": "markdown",
   "metadata": {},
   "source": [
    "For summarizing, the dataset has the following characteristics:\n",
    "- It hast a total of 3772 samples and 29 features (we don't count the class column)\n",
    "- It has 7 numerical features and 22 nominal features (we don't count the class column).\n",
    "- 20 of the nominal features have only 2 different values.\n",
    "- The feature to predict is nominal and has 4 different values."
   ]
  },
  {
   "cell_type": "markdown",
   "metadata": {},
   "source": [
    "## Preprocessing"
   ]
  },
  {
   "cell_type": "markdown",
   "metadata": {},
   "source": [
    "Firslty we check the total number of NaNs and the number of NaNs per row."
   ]
  },
  {
   "cell_type": "code",
   "execution_count": 6,
   "metadata": {},
   "outputs": [
    {
     "name": "stdout",
     "output_type": "stream",
     "text": [
      "Total number:  5914 ; relative:  5.226228349240015 %\n"
     ]
    }
   ],
   "source": [
    "count_nans = data.isnull().sum().sum()\n",
    "print('Total number: ', count_nans, '; relative: ', (count_nans*100)/(len(data.index)*len(data.columns)), '%')"
   ]
  },
  {
   "cell_type": "code",
   "execution_count": 7,
   "metadata": {},
   "outputs": [
    {
     "name": "stdout",
     "output_type": "stream",
     "text": [
      "+---------------------------+----------------+\n",
      "| Number of NaNs in the row | Number of rows |\n",
      "+---------------------------+----------------+\n",
      "|             1             |      2751      |\n",
      "|             2             |      538       |\n",
      "|             3             |      247       |\n",
      "|             4             |       13       |\n",
      "|             5             |       44       |\n",
      "|             6             |      179       |\n",
      "+---------------------------+----------------+\n"
     ]
    }
   ],
   "source": [
    "nans_per_row = data.isnull().sum(axis=1).tolist()\n",
    "unique, counts = np.unique(np.asarray(nans_per_row), return_counts=True)\n",
    "x = PrettyTable()\n",
    "x.field_names = ['Number of NaNs in the row', 'Number of rows']\n",
    "for index, value in enumerate(unique):\n",
    "    x.add_row([value, counts[index]])\n",
    "print(x)"
   ]
  },
  {
   "cell_type": "markdown",
   "metadata": {},
   "source": [
    "We can see that the majority of rows have between 1 and 3 NaNs. It is necessary to process these NaNs. The rows with more NaNs have 6 columns without a defined value that is still a razonable number compared to the total number of columns (30)."
   ]
  },
  {
   "cell_type": "markdown",
   "metadata": {},
   "source": [
    "Secondly we preprocess each column separately, first the numerical features, secondly the nominal features and lastly the class column. For summarizing we do the following preprocessing steps:\n",
    "- Replace the NaN values of each numerical feature by the mean.\n",
    "- Replace the NaN values of each nominal feature by the median.\n",
    "- Replace the outliers of each numerical feature by the closest value.\n",
    "- Normalize all the numerical features."
   ]
  },
  {
   "cell_type": "markdown",
   "metadata": {},
   "source": [
    "### Check the numerical features"
   ]
  },
  {
   "cell_type": "markdown",
   "metadata": {},
   "source": [
    "For each feature we process the NaN values and replace the outliers if necessary. At the end we also normalize all the features."
   ]
  },
  {
   "cell_type": "markdown",
   "metadata": {},
   "source": [
    "#### Age"
   ]
  },
  {
   "cell_type": "code",
   "execution_count": 8,
   "metadata": {},
   "outputs": [],
   "source": [
    "column = data['age']"
   ]
  },
  {
   "cell_type": "markdown",
   "metadata": {},
   "source": [
    "NaNs checking"
   ]
  },
  {
   "cell_type": "code",
   "execution_count": 9,
   "metadata": {
    "scrolled": true
   },
   "outputs": [
    {
     "data": {
      "text/plain": [
       "1"
      ]
     },
     "execution_count": 9,
     "metadata": {},
     "output_type": "execute_result"
    }
   ],
   "source": [
    "column.isnull().sum()"
   ]
  },
  {
   "cell_type": "markdown",
   "metadata": {},
   "source": [
    "Outliers checking"
   ]
  },
  {
   "cell_type": "code",
   "execution_count": 10,
   "metadata": {},
   "outputs": [
    {
     "data": {
      "image/png": "[encoded data removed]",
      "text/plain": [
       "<Figure size 720x360 with 1 Axes>"
      ]
     },
     "metadata": {
      "needs_background": "light"
     },
     "output_type": "display_data"
    }
   ],
   "source": [
    "plot_hist(column[column.notna()], 'Distribution of the age column')"
   ]
  },
  {
   "cell_type": "markdown",
   "metadata": {},
   "source": [
    "We have a NaN value and an outlier. We replace the outlier by the maximum value apart from him and replace the NaN value by the mean."
   ]
  },
  {
   "cell_type": "code",
   "execution_count": 11,
   "metadata": {},
   "outputs": [],
   "source": [
    "outliers_list = data.index[column > 400].tolist()\n",
    "nans_list = data.index[column.isnull()].tolist()"
   ]
  },
  {
   "cell_type": "code",
   "execution_count": 12,
   "metadata": {
    "scrolled": true
   },
   "outputs": [],
   "source": [
    "column = column.to_numpy()\n",
    "column_clean = np.delete(column, nans_list + outliers_list)\n",
    "mean_clean = np.mean(column_clean)\n",
    "max_clean = np.max(column_clean)\n",
    "column[nans_list] = mean_clean\n",
    "column[outliers_list] = max_clean"
   ]
  },
  {
   "cell_type": "code",
   "execution_count": 13,
   "metadata": {},
   "outputs": [
    {
     "data": {
      "image/png": "[encoded data removed]",
      "text/plain": [
       "<Figure size 720x360 with 1 Axes>"
      ]
     },
     "metadata": {
      "needs_background": "light"
     },
     "output_type": "display_data"
    }
   ],
   "source": [
    "data['age'] = column\n",
    "plot_hist(data['age'], 'Distribution of the processed age column')"
   ]
  },
  {
   "cell_type": "markdown",
   "metadata": {},
   "source": [
    "#### TSH"
   ]
  },
  {
   "cell_type": "code",
   "execution_count": 14,
   "metadata": {},
   "outputs": [],
   "source": [
    "column = data['TSH']"
   ]
  },
  {
   "cell_type": "markdown",
   "metadata": {},
   "source": [
    "NaNs checking"
   ]
  },
  {
   "cell_type": "code",
   "execution_count": 15,
   "metadata": {
    "scrolled": true
   },
   "outputs": [
    {
     "data": {
      "text/plain": [
       "369"
      ]
     },
     "execution_count": 15,
     "metadata": {},
     "output_type": "execute_result"
    }
   ],
   "source": [
    "column.isnull().sum()"
   ]
  },
  {
   "cell_type": "markdown",
   "metadata": {},
   "source": [
    "Outliers checking"
   ]
  },
  {
   "cell_type": "code",
   "execution_count": 16,
   "metadata": {},
   "outputs": [
    {
     "data": {
      "image/png": "[encoded data removed]",
      "text/plain": [
       "<Figure size 720x360 with 1 Axes>"
      ]
     },
     "metadata": {
      "needs_background": "light"
     },
     "output_type": "display_data"
    }
   ],
   "source": [
    "plot_hist(column[column.notna()], 'Distribution of the TSH column')"
   ]
  },
  {
   "cell_type": "markdown",
   "metadata": {},
   "source": [
    "We have 369 NaN values and two outliers. We replace the outliers by the maximum value apart from them and replace the NaN values by the mean."
   ]
  },
  {
   "cell_type": "code",
   "execution_count": 17,
   "metadata": {},
   "outputs": [],
   "source": [
    "outliers_list = data.index[column > 80].tolist()\n",
    "nans_list = data.index[column.isnull()].tolist()"
   ]
  },
  {
   "cell_type": "code",
   "execution_count": 18,
   "metadata": {
    "scrolled": true
   },
   "outputs": [],
   "source": [
    "column = column.to_numpy()\n",
    "column_clean = np.delete(column, nans_list + outliers_list)\n",
    "mean_clean = np.mean(column_clean)\n",
    "max_clean = np.max(column_clean)\n",
    "column[nans_list] = mean_clean\n",
    "column[outliers_list] = max_clean"
   ]
  },
  {
   "cell_type": "code",
   "execution_count": 19,
   "metadata": {},
   "outputs": [
    {
     "data": {
      "image/png": "[encoded data removed]",
      "text/plain": [
       "<Figure size 720x360 with 1 Axes>"
      ]
     },
     "metadata": {
      "needs_background": "light"
     },
     "output_type": "display_data"
    }
   ],
   "source": [
    "data['TSH'] = column\n",
    "plot_hist(data['TSH'], 'Distribution of the processed TSH column')"
   ]
  },
  {
   "cell_type": "markdown",
   "metadata": {},
   "source": [
    "#### T3"
   ]
  },
  {
   "cell_type": "code",
   "execution_count": 22,
   "metadata": {},
   "outputs": [],
   "source": [
    "column = data['T3']"
   ]
  },
  {
   "cell_type": "markdown",
   "metadata": {},
   "source": [
    "NaNs checking"
   ]
  },
  {
   "cell_type": "code",
   "execution_count": 23,
   "metadata": {
    "scrolled": true
   },
   "outputs": [
    {
     "data": {
      "text/plain": [
       "769"
      ]
     },
     "execution_count": 23,
     "metadata": {},
     "output_type": "execute_result"
    }
   ],
   "source": [
    "column.isnull().sum()"
   ]
  },
  {
   "cell_type": "markdown",
   "metadata": {},
   "source": [
    "Outliers checking"
   ]
  },
  {
   "cell_type": "code",
   "execution_count": 24,
   "metadata": {},
   "outputs": [
    {
     "data": {
      "image/png": "[encoded data removed]",
      "text/plain": [
       "<Figure size 720x360 with 1 Axes>"
      ]
     },
     "metadata": {
      "needs_background": "light"
     },
     "output_type": "display_data"
    }
   ],
   "source": [
    "plot_hist(column[column.notna()], 'Distribution of the T3 column')"
   ]
  },
  {
   "cell_type": "markdown",
   "metadata": {},
   "source": [
    "We have 769 NaN values and one outlier. We replace the outlier by the maximum value apart from him and replace the NaN values by the mean."
   ]
  },
  {
   "cell_type": "code",
   "execution_count": 25,
   "metadata": {},
   "outputs": [],
   "source": [
    "outliers_list = data.index[column > 10].tolist()\n",
    "nans_list = data.index[column.isnull()].tolist()"
   ]
  },
  {
   "cell_type": "code",
   "execution_count": 26,
   "metadata": {
    "scrolled": true
   },
   "outputs": [],
   "source": [
    "column = column.to_numpy()\n",
    "column_clean = np.delete(column, nans_list + outliers_list)\n",
    "mean_clean = np.mean(column_clean)\n",
    "max_clean = np.max(column_clean)\n",
    "column[nans_list] = mean_clean\n",
    "column[outliers_list] = max_clean"
   ]
  },
  {
   "cell_type": "code",
   "execution_count": 27,
   "metadata": {},
   "outputs": [
    {
     "data": {
      "image/png": "[encoded data removed]",
      "text/plain": [
       "<Figure size 720x360 with 1 Axes>"
      ]
     },
     "metadata": {
      "needs_background": "light"
     },
     "output_type": "display_data"
    }
   ],
   "source": [
    "data['T3'] = column\n",
    "plot_hist(data['T3'], 'Distribution of the processed T3 column')"
   ]
  },
  {
   "cell_type": "markdown",
   "metadata": {},
   "source": [
    "#### TT4"
   ]
  },
  {
   "cell_type": "code",
   "execution_count": 28,
   "metadata": {},
   "outputs": [],
   "source": [
    "column = data['TT4']"
   ]
  },
  {
   "cell_type": "markdown",
   "metadata": {},
   "source": [
    "NaNs checking"
   ]
  },
  {
   "cell_type": "code",
   "execution_count": 29,
   "metadata": {
    "scrolled": true
   },
   "outputs": [
    {
     "data": {
      "text/plain": [
       "231"
      ]
     },
     "execution_count": 29,
     "metadata": {},
     "output_type": "execute_result"
    }
   ],
   "source": [
    "column.isnull().sum()"
   ]
  },
  {
   "cell_type": "markdown",
   "metadata": {},
   "source": [
    "Outliers checking"
   ]
  },
  {
   "cell_type": "code",
   "execution_count": 30,
   "metadata": {},
   "outputs": [
    {
     "data": {
      "image/png": "[encoded data removed]",
      "text/plain": [
       "<Figure size 720x360 with 1 Axes>"
      ]
     },
     "metadata": {
      "needs_background": "light"
     },
     "output_type": "display_data"
    }
   ],
   "source": [
    "plot_hist(column[column.notna()], 'Distribution of the TT4 column')"
   ]
  },
  {
   "cell_type": "markdown",
   "metadata": {},
   "source": [
    "We have 231 NaN values and two outliers. We replace the outliers by the maximum value apart from them and replace the NaN values by the mean."
   ]
  },
  {
   "cell_type": "code",
   "execution_count": 31,
   "metadata": {},
   "outputs": [],
   "source": [
    "outliers_list = data.index[column > 350].tolist()\n",
    "nans_list = data.index[column.isnull()].tolist()"
   ]
  },
  {
   "cell_type": "code",
   "execution_count": 32,
   "metadata": {
    "scrolled": true
   },
   "outputs": [],
   "source": [
    "column = column.to_numpy()\n",
    "column_clean = np.delete(column, nans_list + outliers_list)\n",
    "mean_clean = np.mean(column_clean)\n",
    "max_clean = np.max(column_clean)\n",
    "column[nans_list] = mean_clean\n",
    "column[outliers_list] = max_clean"
   ]
  },
  {
   "cell_type": "code",
   "execution_count": 34,
   "metadata": {},
   "outputs": [
    {
     "data": {
      "image/png": "[encoded data removed]",
      "text/plain": [
       "<Figure size 720x360 with 1 Axes>"
      ]
     },
     "metadata": {
      "needs_background": "light"
     },
     "output_type": "display_data"
    }
   ],
   "source": [
    "data['TT4'] = column\n",
    "plot_hist(data['TT4'], 'Distribution of the processed TT4 column')"
   ]
  },
  {
   "cell_type": "markdown",
   "metadata": {},
   "source": [
    "#### T4U"
   ]
  },
  {
   "cell_type": "code",
   "execution_count": 35,
   "metadata": {},
   "outputs": [],
   "source": [
    "column = data['T4U']"
   ]
  },
  {
   "cell_type": "markdown",
   "metadata": {},
   "source": [
    "NaNs checking"
   ]
  },
  {
   "cell_type": "code",
   "execution_count": 36,
   "metadata": {
    "scrolled": true
   },
   "outputs": [
    {
     "data": {
      "text/plain": [
       "387"
      ]
     },
     "execution_count": 36,
     "metadata": {},
     "output_type": "execute_result"
    }
   ],
   "source": [
    "column.isnull().sum()"
   ]
  },
  {
   "cell_type": "markdown",
   "metadata": {},
   "source": [
    "Outliers checking"
   ]
  },
  {
   "cell_type": "code",
   "execution_count": 37,
   "metadata": {},
   "outputs": [
    {
     "data": {
      "image/png": "[encoded data removed]",
      "text/plain": [
       "<Figure size 720x360 with 1 Axes>"
      ]
     },
     "metadata": {
      "needs_background": "light"
     },
     "output_type": "display_data"
    }
   ],
   "source": [
    "plot_hist(column[column.notna()], 'Distribution of the T4U column')"
   ]
  },
  {
   "cell_type": "markdown",
   "metadata": {},
   "source": [
    "We have 387 NaN values. We replace the NaN values by the mean."
   ]
  },
  {
   "cell_type": "code",
   "execution_count": 38,
   "metadata": {},
   "outputs": [],
   "source": [
    "nans_list = data.index[column.isnull()].tolist()"
   ]
  },
  {
   "cell_type": "code",
   "execution_count": 45,
   "metadata": {
    "scrolled": true
   },
   "outputs": [],
   "source": [
    "column = column.to_numpy()\n",
    "column_clean = np.delete(column, nans_list)\n",
    "mean_clean = np.mean(column_clean)\n",
    "max_clean = np.max(column_clean)\n",
    "column[nans_list] = mean_clean\n",
    "column[outliers_list] = max_clean"
   ]
  },
  {
   "cell_type": "markdown",
   "metadata": {},
   "source": [
    "#### FTI"
   ]
  },
  {
   "cell_type": "code",
   "execution_count": 41,
   "metadata": {},
   "outputs": [],
   "source": [
    "column = data['FTI']"
   ]
  },
  {
   "cell_type": "markdown",
   "metadata": {},
   "source": [
    "NaNs checking"
   ]
  },
  {
   "cell_type": "code",
   "execution_count": 42,
   "metadata": {
    "scrolled": true
   },
   "outputs": [
    {
     "data": {
      "text/plain": [
       "385"
      ]
     },
     "execution_count": 42,
     "metadata": {},
     "output_type": "execute_result"
    }
   ],
   "source": [
    "column.isnull().sum()"
   ]
  },
  {
   "cell_type": "markdown",
   "metadata": {},
   "source": [
    "Outliers checking"
   ]
  },
  {
   "cell_type": "code",
   "execution_count": 43,
   "metadata": {},
   "outputs": [
    {
     "data": {
      "image/png": "[encoded data removed]",
      "text/plain": [
       "<Figure size 720x360 with 1 Axes>"
      ]
     },
     "metadata": {
      "needs_background": "light"
     },
     "output_type": "display_data"
    }
   ],
   "source": [
    "plot_hist(column[column.notna()], 'Distribution of the FTI column')"
   ]
  },
  {
   "cell_type": "markdown",
   "metadata": {},
   "source": [
    "We have 385 NaN values. We replace the NaN values by the mean."
   ]
  },
  {
   "cell_type": "code",
   "execution_count": 44,
   "metadata": {},
   "outputs": [],
   "source": [
    "nans_list = data.index[column.isnull()].tolist()"
   ]
  },
  {
   "cell_type": "code",
   "execution_count": 46,
   "metadata": {
    "scrolled": false
   },
   "outputs": [
    {
     "ename": "AttributeError",
     "evalue": "'numpy.ndarray' object has no attribute 'to_numpy'",
     "output_type": "error",
     "traceback": [
      "\u001b[0;31m---------------------------------------------------------------------------\u001b[0m",
      "\u001b[0;31mAttributeError\u001b[0m                            Traceback (most recent call last)",
      "\u001b[0;32m<ipython-input-46-12aae16b9992>\u001b[0m in \u001b[0;36m<module>\u001b[0;34m\u001b[0m\n\u001b[0;32m----> 1\u001b[0;31m \u001b[0mcolumn\u001b[0m \u001b[0;34m=\u001b[0m \u001b[0mcolumn\u001b[0m\u001b[0;34m.\u001b[0m\u001b[0mto_numpy\u001b[0m\u001b[0;34m(\u001b[0m\u001b[0;34m)\u001b[0m\u001b[0;34m\u001b[0m\u001b[0;34m\u001b[0m\u001b[0m\n\u001b[0m\u001b[1;32m      2\u001b[0m \u001b[0mcolumn_clean\u001b[0m \u001b[0;34m=\u001b[0m \u001b[0mnp\u001b[0m\u001b[0;34m.\u001b[0m\u001b[0mdelete\u001b[0m\u001b[0;34m(\u001b[0m\u001b[0mcolumn\u001b[0m\u001b[0;34m,\u001b[0m \u001b[0mnans_list\u001b[0m\u001b[0;34m)\u001b[0m\u001b[0;34m\u001b[0m\u001b[0;34m\u001b[0m\u001b[0m\n\u001b[1;32m      3\u001b[0m \u001b[0mmean_clean\u001b[0m \u001b[0;34m=\u001b[0m \u001b[0mnp\u001b[0m\u001b[0;34m.\u001b[0m\u001b[0mmean\u001b[0m\u001b[0;34m(\u001b[0m\u001b[0mcolumn_clean\u001b[0m\u001b[0;34m)\u001b[0m\u001b[0;34m\u001b[0m\u001b[0;34m\u001b[0m\u001b[0m\n\u001b[1;32m      4\u001b[0m \u001b[0mmax_clean\u001b[0m \u001b[0;34m=\u001b[0m \u001b[0mnp\u001b[0m\u001b[0;34m.\u001b[0m\u001b[0mmax\u001b[0m\u001b[0;34m(\u001b[0m\u001b[0mcolumn_clean\u001b[0m\u001b[0;34m)\u001b[0m\u001b[0;34m\u001b[0m\u001b[0;34m\u001b[0m\u001b[0m\n\u001b[1;32m      5\u001b[0m \u001b[0mcolumn\u001b[0m\u001b[0;34m[\u001b[0m\u001b[0mnans_list\u001b[0m\u001b[0;34m]\u001b[0m \u001b[0;34m=\u001b[0m \u001b[0mmean_clean\u001b[0m\u001b[0;34m\u001b[0m\u001b[0;34m\u001b[0m\u001b[0m\n",
      "\u001b[0;31mAttributeError\u001b[0m: 'numpy.ndarray' object has no attribute 'to_numpy'"
     ]
    }
   ],
   "source": [
    "column = column.to_numpy()\n",
    "column_clean = np.delete(column, nans_list)\n",
    "mean_clean = np.mean(column_clean)\n",
    "max_clean = np.max(column_clean)\n",
    "column[nans_list] = mean_clean\n",
    "column[outliers_list] = max_clean"
   ]
  },
  {
   "cell_type": "markdown",
   "metadata": {},
   "source": [
    "#### TBG"
   ]
  },
  {
   "cell_type": "code",
   "execution_count": 47,
   "metadata": {},
   "outputs": [],
   "source": [
    "column = data['TBG']"
   ]
  },
  {
   "cell_type": "markdown",
   "metadata": {},
   "source": [
    "NaNs checking"
   ]
  },
  {
   "cell_type": "code",
   "execution_count": 48,
   "metadata": {
    "scrolled": true
   },
   "outputs": [
    {
     "data": {
      "text/plain": [
       "3772"
      ]
     },
     "execution_count": 48,
     "metadata": {},
     "output_type": "execute_result"
    }
   ],
   "source": [
    "column.isnull().sum()"
   ]
  },
  {
   "cell_type": "markdown",
   "metadata": {},
   "source": [
    "All the values of this column are NaN, so we delete this column"
   ]
  },
  {
   "cell_type": "code",
   "execution_count": 49,
   "metadata": {},
   "outputs": [],
   "source": [
    "del data['TBG']"
   ]
  },
  {
   "cell_type": "markdown",
   "metadata": {},
   "source": [
    "#### Normalization"
   ]
  },
  {
   "cell_type": "markdown",
   "metadata": {},
   "source": [
    "Now we normalize all the numerical columns using min-max normalization"
   ]
  },
  {
   "cell_type": "code",
   "execution_count": 54,
   "metadata": {},
   "outputs": [],
   "source": [
    "numeric_columns = ['age', 'TSH', 'T3', 'TT4', 'T4U', 'FTI']\n",
    "for column_index in numeric_columns:\n",
    "    normalized_column = min_max_normalize(data[column_index].to_numpy())\n",
    "    data[column_index] = normalized_column"
   ]
  },
  {
   "cell_type": "markdown",
   "metadata": {},
   "source": [
    "### Check nominal features"
   ]
  },
  {
   "cell_type": "markdown",
   "metadata": {},
   "source": [
    "We replace the NaN values of each nominal feature by the median"
   ]
  },
  {
   "cell_type": "code",
   "execution_count": null,
   "metadata": {},
   "outputs": [],
   "source": []
  },
  {
   "cell_type": "markdown",
   "metadata": {},
   "source": [
    "### Check the class feature"
   ]
  },
  {
   "cell_type": "markdown",
   "metadata": {},
   "source": [
    "In this subsection we analyse the feature to predict. \n",
    "\n",
    "We check the number of samples for each possible class (in absolute and relative value)."
   ]
  },
  {
   "cell_type": "code",
   "execution_count": 20,
   "metadata": {},
   "outputs": [
    {
     "name": "stdout",
     "output_type": "stream",
     "text": [
      "b'negative'                   3481\n",
      "b'compensated_hypothyroid'     194\n",
      "b'primary_hypothyroid'          95\n",
      "b'secondary_hypothyroid'         2\n",
      "Name: Class, dtype: int64 \n",
      "\n",
      "b'negative'                   0.922853\n",
      "b'compensated_hypothyroid'    0.051432\n",
      "b'primary_hypothyroid'        0.025186\n",
      "b'secondary_hypothyroid'      0.000530\n",
      "Name: Class, dtype: float64\n"
     ]
    }
   ],
   "source": [
    "print(data['Class'].value_counts(), '\\n')\n",
    "print(data['Class'].value_counts(normalize=True))"
   ]
  },
  {
   "cell_type": "markdown",
   "metadata": {},
   "source": [
    "We can clearly see that the dataset is highly descompensated, the 92,29% of the samples belong to only one class.."
   ]
  },
  {
   "cell_type": "markdown",
   "metadata": {},
   "source": [
    "Now we check the correlation with the numeric features"
   ]
  },
  {
   "cell_type": "code",
   "execution_count": 21,
   "metadata": {},
   "outputs": [
    {
     "name": "stderr",
     "output_type": "stream",
     "text": [
      "/home/ferran/anaconda3/lib/python3.7/site-packages/matplotlib/colors.py:527: RuntimeWarning: invalid value encountered in less\n",
      "  xa[xa < 0] = -1\n",
      "/home/ferran/anaconda3/lib/python3.7/site-packages/pandas/io/formats/style.py:1089: RuntimeWarning: All-NaN slice encountered\n",
      "  smin = np.nanmin(s.to_numpy()) if vmin is None else vmin\n",
      "/home/ferran/anaconda3/lib/python3.7/site-packages/pandas/io/formats/style.py:1090: RuntimeWarning: All-NaN slice encountered\n",
      "  smax = np.nanmax(s.to_numpy()) if vmax is None else vmax\n"
     ]
    },
    {
     "data": {
      "text/html": [
       "<style  type=\"text/css\" >\n",
       "    #T_28476a62_117f_11eb_93c3_edae5566cc90row0_col0 {\n",
       "            background-color:  #b40426;\n",
       "            color:  #f1f1f1;\n",
       "        }    #T_28476a62_117f_11eb_93c3_edae5566cc90row0_col1 {\n",
       "            background-color:  #779af7;\n",
       "            color:  #000000;\n",
       "        }    #T_28476a62_117f_11eb_93c3_edae5566cc90row0_col2 {\n",
       "            background-color:  #3b4cc0;\n",
       "            color:  #f1f1f1;\n",
       "        }    #T_28476a62_117f_11eb_93c3_edae5566cc90row0_col3 {\n",
       "            background-color:  #7597f6;\n",
       "            color:  #000000;\n",
       "        }    #T_28476a62_117f_11eb_93c3_edae5566cc90row0_col4 {\n",
       "            background-color:  #3c4ec2;\n",
       "            color:  #f1f1f1;\n",
       "        }    #T_28476a62_117f_11eb_93c3_edae5566cc90row0_col5 {\n",
       "            background-color:  #96b7ff;\n",
       "            color:  #000000;\n",
       "        }    #T_28476a62_117f_11eb_93c3_edae5566cc90row0_col6 {\n",
       "            background-color:  #3b4cc0;\n",
       "            color:  #f1f1f1;\n",
       "        }    #T_28476a62_117f_11eb_93c3_edae5566cc90row1_col0 {\n",
       "            background-color:  #688aef;\n",
       "            color:  #000000;\n",
       "        }    #T_28476a62_117f_11eb_93c3_edae5566cc90row1_col1 {\n",
       "            background-color:  #b40426;\n",
       "            color:  #f1f1f1;\n",
       "        }    #T_28476a62_117f_11eb_93c3_edae5566cc90row1_col2 {\n",
       "            background-color:  #4c66d6;\n",
       "            color:  #000000;\n",
       "        }    #T_28476a62_117f_11eb_93c3_edae5566cc90row1_col3 {\n",
       "            background-color:  #3b4cc0;\n",
       "            color:  #f1f1f1;\n",
       "        }    #T_28476a62_117f_11eb_93c3_edae5566cc90row1_col4 {\n",
       "            background-color:  #7ea1fa;\n",
       "            color:  #000000;\n",
       "        }    #T_28476a62_117f_11eb_93c3_edae5566cc90row1_col5 {\n",
       "            background-color:  #3b4cc0;\n",
       "            color:  #f1f1f1;\n",
       "        }    #T_28476a62_117f_11eb_93c3_edae5566cc90row1_col6 {\n",
       "            background-color:  #3b4cc0;\n",
       "            color:  #f1f1f1;\n",
       "        }    #T_28476a62_117f_11eb_93c3_edae5566cc90row2_col0 {\n",
       "            background-color:  #3b4cc0;\n",
       "            color:  #f1f1f1;\n",
       "        }    #T_28476a62_117f_11eb_93c3_edae5566cc90row2_col1 {\n",
       "            background-color:  #5d7ce6;\n",
       "            color:  #000000;\n",
       "        }    #T_28476a62_117f_11eb_93c3_edae5566cc90row2_col2 {\n",
       "            background-color:  #b40426;\n",
       "            color:  #f1f1f1;\n",
       "        }    #T_28476a62_117f_11eb_93c3_edae5566cc90row2_col3 {\n",
       "            background-color:  #f7bca1;\n",
       "            color:  #000000;\n",
       "        }    #T_28476a62_117f_11eb_93c3_edae5566cc90row2_col4 {\n",
       "            background-color:  #e5d8d1;\n",
       "            color:  #000000;\n",
       "        }    #T_28476a62_117f_11eb_93c3_edae5566cc90row2_col5 {\n",
       "            background-color:  #dddcdc;\n",
       "            color:  #000000;\n",
       "        }    #T_28476a62_117f_11eb_93c3_edae5566cc90row2_col6 {\n",
       "            background-color:  #3b4cc0;\n",
       "            color:  #f1f1f1;\n",
       "        }    #T_28476a62_117f_11eb_93c3_edae5566cc90row3_col0 {\n",
       "            background-color:  #6e90f2;\n",
       "            color:  #000000;\n",
       "        }    #T_28476a62_117f_11eb_93c3_edae5566cc90row3_col1 {\n",
       "            background-color:  #4358cb;\n",
       "            color:  #f1f1f1;\n",
       "        }    #T_28476a62_117f_11eb_93c3_edae5566cc90row3_col2 {\n",
       "            background-color:  #f6bfa6;\n",
       "            color:  #000000;\n",
       "        }    #T_28476a62_117f_11eb_93c3_edae5566cc90row3_col3 {\n",
       "            background-color:  #b40426;\n",
       "            color:  #f1f1f1;\n",
       "        }    #T_28476a62_117f_11eb_93c3_edae5566cc90row3_col4 {\n",
       "            background-color:  #e1dad6;\n",
       "            color:  #000000;\n",
       "        }    #T_28476a62_117f_11eb_93c3_edae5566cc90row3_col5 {\n",
       "            background-color:  #e57058;\n",
       "            color:  #000000;\n",
       "        }    #T_28476a62_117f_11eb_93c3_edae5566cc90row3_col6 {\n",
       "            background-color:  #3b4cc0;\n",
       "            color:  #f1f1f1;\n",
       "        }    #T_28476a62_117f_11eb_93c3_edae5566cc90row4_col0 {\n",
       "            background-color:  #4b64d5;\n",
       "            color:  #f1f1f1;\n",
       "        }    #T_28476a62_117f_11eb_93c3_edae5566cc90row4_col1 {\n",
       "            background-color:  #9bbcff;\n",
       "            color:  #000000;\n",
       "        }    #T_28476a62_117f_11eb_93c3_edae5566cc90row4_col2 {\n",
       "            background-color:  #ebd3c6;\n",
       "            color:  #000000;\n",
       "        }    #T_28476a62_117f_11eb_93c3_edae5566cc90row4_col3 {\n",
       "            background-color:  #ead5c9;\n",
       "            color:  #000000;\n",
       "        }    #T_28476a62_117f_11eb_93c3_edae5566cc90row4_col4 {\n",
       "            background-color:  #b40426;\n",
       "            color:  #f1f1f1;\n",
       "        }    #T_28476a62_117f_11eb_93c3_edae5566cc90row4_col5 {\n",
       "            background-color:  #5977e3;\n",
       "            color:  #000000;\n",
       "        }    #T_28476a62_117f_11eb_93c3_edae5566cc90row4_col6 {\n",
       "            background-color:  #3b4cc0;\n",
       "            color:  #f1f1f1;\n",
       "        }    #T_28476a62_117f_11eb_93c3_edae5566cc90row5_col0 {\n",
       "            background-color:  #88abfd;\n",
       "            color:  #000000;\n",
       "        }    #T_28476a62_117f_11eb_93c3_edae5566cc90row5_col1 {\n",
       "            background-color:  #3b4cc0;\n",
       "            color:  #f1f1f1;\n",
       "        }    #T_28476a62_117f_11eb_93c3_edae5566cc90row5_col2 {\n",
       "            background-color:  #d6dce4;\n",
       "            color:  #000000;\n",
       "        }    #T_28476a62_117f_11eb_93c3_edae5566cc90row5_col3 {\n",
       "            background-color:  #e67259;\n",
       "            color:  #000000;\n",
       "        }    #T_28476a62_117f_11eb_93c3_edae5566cc90row5_col4 {\n",
       "            background-color:  #3b4cc0;\n",
       "            color:  #f1f1f1;\n",
       "        }    #T_28476a62_117f_11eb_93c3_edae5566cc90row5_col5 {\n",
       "            background-color:  #b40426;\n",
       "            color:  #f1f1f1;\n",
       "        }    #T_28476a62_117f_11eb_93c3_edae5566cc90row5_col6 {\n",
       "            background-color:  #3b4cc0;\n",
       "            color:  #f1f1f1;\n",
       "        }    #T_28476a62_117f_11eb_93c3_edae5566cc90row6_col0 {\n",
       "            background-color:  #3b4cc0;\n",
       "            color:  #f1f1f1;\n",
       "        }    #T_28476a62_117f_11eb_93c3_edae5566cc90row6_col1 {\n",
       "            background-color:  #3b4cc0;\n",
       "            color:  #f1f1f1;\n",
       "        }    #T_28476a62_117f_11eb_93c3_edae5566cc90row6_col2 {\n",
       "            background-color:  #3b4cc0;\n",
       "            color:  #f1f1f1;\n",
       "        }    #T_28476a62_117f_11eb_93c3_edae5566cc90row6_col3 {\n",
       "            background-color:  #3b4cc0;\n",
       "            color:  #f1f1f1;\n",
       "        }    #T_28476a62_117f_11eb_93c3_edae5566cc90row6_col4 {\n",
       "            background-color:  #3b4cc0;\n",
       "            color:  #f1f1f1;\n",
       "        }    #T_28476a62_117f_11eb_93c3_edae5566cc90row6_col5 {\n",
       "            background-color:  #3b4cc0;\n",
       "            color:  #f1f1f1;\n",
       "        }    #T_28476a62_117f_11eb_93c3_edae5566cc90row6_col6 {\n",
       "            background-color:  #3b4cc0;\n",
       "            color:  #f1f1f1;\n",
       "        }</style><table id=\"T_28476a62_117f_11eb_93c3_edae5566cc90\" ><thead>    <tr>        <th class=\"blank level0\" ></th>        <th class=\"col_heading level0 col0\" >age</th>        <th class=\"col_heading level0 col1\" >TSH</th>        <th class=\"col_heading level0 col2\" >T3</th>        <th class=\"col_heading level0 col3\" >TT4</th>        <th class=\"col_heading level0 col4\" >T4U</th>        <th class=\"col_heading level0 col5\" >FTI</th>        <th class=\"col_heading level0 col6\" >TBG</th>    </tr></thead><tbody>\n",
       "                <tr>\n",
       "                        <th id=\"T_28476a62_117f_11eb_93c3_edae5566cc90level0_row0\" class=\"row_heading level0 row0\" >age</th>\n",
       "                        <td id=\"T_28476a62_117f_11eb_93c3_edae5566cc90row0_col0\" class=\"data row0 col0\" >1.000000</td>\n",
       "                        <td id=\"T_28476a62_117f_11eb_93c3_edae5566cc90row0_col1\" class=\"data row0 col1\" >-0.059087</td>\n",
       "                        <td id=\"T_28476a62_117f_11eb_93c3_edae5566cc90row0_col2\" class=\"data row0 col2\" >-0.238412</td>\n",
       "                        <td id=\"T_28476a62_117f_11eb_93c3_edae5566cc90row0_col3\" class=\"data row0 col3\" >-0.038841</td>\n",
       "                        <td id=\"T_28476a62_117f_11eb_93c3_edae5566cc90row0_col4\" class=\"data row0 col4\" >-0.166250</td>\n",
       "                        <td id=\"T_28476a62_117f_11eb_93c3_edae5566cc90row0_col5\" class=\"data row0 col5\" >0.052788</td>\n",
       "                        <td id=\"T_28476a62_117f_11eb_93c3_edae5566cc90row0_col6\" class=\"data row0 col6\" >nan</td>\n",
       "            </tr>\n",
       "            <tr>\n",
       "                        <th id=\"T_28476a62_117f_11eb_93c3_edae5566cc90level0_row1\" class=\"row_heading level0 row1\" >TSH</th>\n",
       "                        <td id=\"T_28476a62_117f_11eb_93c3_edae5566cc90row1_col0\" class=\"data row1 col0\" >-0.059087</td>\n",
       "                        <td id=\"T_28476a62_117f_11eb_93c3_edae5566cc90row1_col1\" class=\"data row1 col1\" >1.000000</td>\n",
       "                        <td id=\"T_28476a62_117f_11eb_93c3_edae5566cc90row1_col2\" class=\"data row1 col2\" >-0.161823</td>\n",
       "                        <td id=\"T_28476a62_117f_11eb_93c3_edae5566cc90row1_col3\" class=\"data row1 col3\" >-0.267365</td>\n",
       "                        <td id=\"T_28476a62_117f_11eb_93c3_edae5566cc90row1_col4\" class=\"data row1 col4\" >0.073391</td>\n",
       "                        <td id=\"T_28476a62_117f_11eb_93c3_edae5566cc90row1_col5\" class=\"data row1 col5\" >-0.304684</td>\n",
       "                        <td id=\"T_28476a62_117f_11eb_93c3_edae5566cc90row1_col6\" class=\"data row1 col6\" >nan</td>\n",
       "            </tr>\n",
       "            <tr>\n",
       "                        <th id=\"T_28476a62_117f_11eb_93c3_edae5566cc90level0_row2\" class=\"row_heading level0 row2\" >T3</th>\n",
       "                        <td id=\"T_28476a62_117f_11eb_93c3_edae5566cc90row2_col0\" class=\"data row2 col0\" >-0.238412</td>\n",
       "                        <td id=\"T_28476a62_117f_11eb_93c3_edae5566cc90row2_col1\" class=\"data row2 col1\" >-0.161823</td>\n",
       "                        <td id=\"T_28476a62_117f_11eb_93c3_edae5566cc90row2_col2\" class=\"data row2 col2\" >1.000000</td>\n",
       "                        <td id=\"T_28476a62_117f_11eb_93c3_edae5566cc90row2_col3\" class=\"data row2 col3\" >0.559503</td>\n",
       "                        <td id=\"T_28476a62_117f_11eb_93c3_edae5566cc90row2_col4\" class=\"data row2 col4\" >0.454127</td>\n",
       "                        <td id=\"T_28476a62_117f_11eb_93c3_edae5566cc90row2_col5\" class=\"data row2 col5\" >0.348921</td>\n",
       "                        <td id=\"T_28476a62_117f_11eb_93c3_edae5566cc90row2_col6\" class=\"data row2 col6\" >nan</td>\n",
       "            </tr>\n",
       "            <tr>\n",
       "                        <th id=\"T_28476a62_117f_11eb_93c3_edae5566cc90level0_row3\" class=\"row_heading level0 row3\" >TT4</th>\n",
       "                        <td id=\"T_28476a62_117f_11eb_93c3_edae5566cc90row3_col0\" class=\"data row3 col0\" >-0.038841</td>\n",
       "                        <td id=\"T_28476a62_117f_11eb_93c3_edae5566cc90row3_col1\" class=\"data row3 col1\" >-0.267365</td>\n",
       "                        <td id=\"T_28476a62_117f_11eb_93c3_edae5566cc90row3_col2\" class=\"data row3 col2\" >0.559503</td>\n",
       "                        <td id=\"T_28476a62_117f_11eb_93c3_edae5566cc90row3_col3\" class=\"data row3 col3\" >1.000000</td>\n",
       "                        <td id=\"T_28476a62_117f_11eb_93c3_edae5566cc90row3_col4\" class=\"data row3 col4\" >0.434572</td>\n",
       "                        <td id=\"T_28476a62_117f_11eb_93c3_edae5566cc90row3_col5\" class=\"data row3 col5\" >0.793312</td>\n",
       "                        <td id=\"T_28476a62_117f_11eb_93c3_edae5566cc90row3_col6\" class=\"data row3 col6\" >nan</td>\n",
       "            </tr>\n",
       "            <tr>\n",
       "                        <th id=\"T_28476a62_117f_11eb_93c3_edae5566cc90level0_row4\" class=\"row_heading level0 row4\" >T4U</th>\n",
       "                        <td id=\"T_28476a62_117f_11eb_93c3_edae5566cc90row4_col0\" class=\"data row4 col0\" >-0.166250</td>\n",
       "                        <td id=\"T_28476a62_117f_11eb_93c3_edae5566cc90row4_col1\" class=\"data row4 col1\" >0.073391</td>\n",
       "                        <td id=\"T_28476a62_117f_11eb_93c3_edae5566cc90row4_col2\" class=\"data row4 col2\" >0.454127</td>\n",
       "                        <td id=\"T_28476a62_117f_11eb_93c3_edae5566cc90row4_col3\" class=\"data row4 col3\" >0.434572</td>\n",
       "                        <td id=\"T_28476a62_117f_11eb_93c3_edae5566cc90row4_col4\" class=\"data row4 col4\" >1.000000</td>\n",
       "                        <td id=\"T_28476a62_117f_11eb_93c3_edae5566cc90row4_col5\" class=\"data row4 col5\" >-0.174012</td>\n",
       "                        <td id=\"T_28476a62_117f_11eb_93c3_edae5566cc90row4_col6\" class=\"data row4 col6\" >nan</td>\n",
       "            </tr>\n",
       "            <tr>\n",
       "                        <th id=\"T_28476a62_117f_11eb_93c3_edae5566cc90level0_row5\" class=\"row_heading level0 row5\" >FTI</th>\n",
       "                        <td id=\"T_28476a62_117f_11eb_93c3_edae5566cc90row5_col0\" class=\"data row5 col0\" >0.052788</td>\n",
       "                        <td id=\"T_28476a62_117f_11eb_93c3_edae5566cc90row5_col1\" class=\"data row5 col1\" >-0.304684</td>\n",
       "                        <td id=\"T_28476a62_117f_11eb_93c3_edae5566cc90row5_col2\" class=\"data row5 col2\" >0.348921</td>\n",
       "                        <td id=\"T_28476a62_117f_11eb_93c3_edae5566cc90row5_col3\" class=\"data row5 col3\" >0.793312</td>\n",
       "                        <td id=\"T_28476a62_117f_11eb_93c3_edae5566cc90row5_col4\" class=\"data row5 col4\" >-0.174012</td>\n",
       "                        <td id=\"T_28476a62_117f_11eb_93c3_edae5566cc90row5_col5\" class=\"data row5 col5\" >1.000000</td>\n",
       "                        <td id=\"T_28476a62_117f_11eb_93c3_edae5566cc90row5_col6\" class=\"data row5 col6\" >nan</td>\n",
       "            </tr>\n",
       "            <tr>\n",
       "                        <th id=\"T_28476a62_117f_11eb_93c3_edae5566cc90level0_row6\" class=\"row_heading level0 row6\" >TBG</th>\n",
       "                        <td id=\"T_28476a62_117f_11eb_93c3_edae5566cc90row6_col0\" class=\"data row6 col0\" >nan</td>\n",
       "                        <td id=\"T_28476a62_117f_11eb_93c3_edae5566cc90row6_col1\" class=\"data row6 col1\" >nan</td>\n",
       "                        <td id=\"T_28476a62_117f_11eb_93c3_edae5566cc90row6_col2\" class=\"data row6 col2\" >nan</td>\n",
       "                        <td id=\"T_28476a62_117f_11eb_93c3_edae5566cc90row6_col3\" class=\"data row6 col3\" >nan</td>\n",
       "                        <td id=\"T_28476a62_117f_11eb_93c3_edae5566cc90row6_col4\" class=\"data row6 col4\" >nan</td>\n",
       "                        <td id=\"T_28476a62_117f_11eb_93c3_edae5566cc90row6_col5\" class=\"data row6 col5\" >nan</td>\n",
       "                        <td id=\"T_28476a62_117f_11eb_93c3_edae5566cc90row6_col6\" class=\"data row6 col6\" >nan</td>\n",
       "            </tr>\n",
       "    </tbody></table>"
      ],
      "text/plain": [
       "<pandas.io.formats.style.Styler at 0x7fad2a99f210>"
      ]
     },
     "execution_count": 21,
     "metadata": {},
     "output_type": "execute_result"
    }
   ],
   "source": [
    "corr = data_numeric.corr()\n",
    "corr.style.background_gradient(cmap='coolwarm')"
   ]
  }
 ],
 "metadata": {
  "kernelspec": {
   "display_name": "iml",
   "language": "python",
   "name": "iml"
  },
  "language_info": {
   "codemirror_mode": {
    "name": "ipython",
    "version": 3
   },
   "file_extension": ".py",
   "mimetype": "text/x-python",
   "name": "python",
   "nbconvert_exporter": "python",
   "pygments_lexer": "ipython3",
   "version": "3.7.6"
  }
 },
 "nbformat": 4,
 "nbformat_minor": 4
}
